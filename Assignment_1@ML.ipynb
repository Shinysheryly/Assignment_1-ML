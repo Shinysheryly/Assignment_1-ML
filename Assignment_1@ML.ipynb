{
 "cells": [
  {
   "cell_type": "markdown",
   "id": "47759273",
   "metadata": {},
   "source": [
    "# Q1"
   ]
  },
  {
   "cell_type": "code",
   "execution_count": 1,
   "id": "66bbf35b",
   "metadata": {},
   "outputs": [
    {
     "name": "stdout",
     "output_type": "stream",
     "text": [
      "ages= [19, 19, 20, 22, 24, 24, 24, 25, 25, 26]\n",
      "max_value and min_value = [19, 26]\n",
      "add again min,max values to the list= [19, 19, 19, 20, 22, 24, 24, 24, 25, 25, 26, 26]\n",
      "median_ages = 24.0\n",
      "mean or avg_ages = 22.75\n",
      "Range = 7\n"
     ]
    }
   ],
   "source": [
    "import statistics\n",
    "ages = [19, 22, 19, 24, 20, 25, 26, 24, 25, 24]\n",
    "ages.sort(reverse = False)\n",
    "print('ages=',ages)\n",
    "minmax = []\n",
    "minmax.append(min(ages))\n",
    "minmax.append(max(ages))\n",
    "print('max_value and min_value =',minmax)\n",
    "ages.insert(1,19)\n",
    "ages.insert(12,26)\n",
    "print('add again min,max values to the list=',ages)\n",
    "print('median_ages =',statistics.median(ages))\n",
    "print('mean or avg_ages =',statistics.mean(ages))\n",
    "range = max(ages)-min(ages)\n",
    "print('Range =',range)"
   ]
  },
  {
   "cell_type": "markdown",
   "id": "5633cbbd",
   "metadata": {},
   "source": [
    "# Q2"
   ]
  },
  {
   "cell_type": "code",
   "execution_count": 3,
   "id": "ff39534f",
   "metadata": {},
   "outputs": [
    {
     "name": "stdout",
     "output_type": "stream",
     "text": [
      "{'Name': 'goldenretriever', 'legs': 4, 'color': 'gold', 'age': 12}\n",
      "{'first_name': 'shiny', 'last_name': 'sherly', 'gender': 'female', 'age': '21', 'marital status': 'single', 'skills': 'dancing,cooking,singing', 'country': 'india', 'city': 'vjw'}\n",
      "length_dict = 8\n",
      "<class 'str'>\n",
      "skills= dancing,cooking,singing\n"
     ]
    }
   ],
   "source": [
    "Dog = {}\n",
    "Dog = {\"Name\": \"goldenretriever\", \"legs\": 4, \"color\": \"gold\", \"age\": 12}\n",
    "print(Dog)\n",
    "Std_dict = {\"first_name\":'shiny',\"last_name\":'sherly',\"gender\":'female',\"age\":'21',\"marital status\":'single',\"skills\":'dancing,cooking,singing',\"country\":'india',\"city\":'vjw'}\n",
    "print(Std_dict)\n",
    "print('length_dict =',len(Std_dict))\n",
    "print(type('skills'))\n",
    "print('skills=',Std_dict[\"skills\"])\n"
   ]
  },
  {
   "cell_type": "markdown",
   "id": "d34c11f9",
   "metadata": {},
   "source": [
    "# Q3"
   ]
  },
  {
   "cell_type": "code",
   "execution_count": 4,
   "id": "6f2a9b1d",
   "metadata": {},
   "outputs": [
    {
     "name": "stdout",
     "output_type": "stream",
     "text": [
      "siblings_names= ('tony', 'chotu', 'chinnu', 'fanny', 'nivvi')\n",
      "count= 5\n",
      "father,mother= ('purushotham', 'aruna')\n",
      "familymembers= ('purushotham', 'aruna', 'tony', 'chotu', 'chinnu', 'fanny', 'nivvi')\n"
     ]
    }
   ],
   "source": [
    "bro=('tony','chotu')\n",
    "sis=('chinnu','fanny','nivvi')\n",
    "siblings = bro+sis\n",
    "print('siblings_names=',siblings)\n",
    "print('count=',len(siblings))\n",
    "dm_name = ('purushotham','aruna')\n",
    "print('father,mother=',dm_name)\n",
    "family_members = dm_name+siblings\n",
    "print('familymembers=',family_members)"
   ]
  },
  {
   "cell_type": "markdown",
   "id": "025adf5b",
   "metadata": {},
   "source": [
    "# Q4"
   ]
  },
  {
   "cell_type": "code",
   "execution_count": 5,
   "id": "6ca6f104",
   "metadata": {},
   "outputs": [
    {
     "name": "stdout",
     "output_type": "stream",
     "text": [
      "7\n",
      "{'Microsoft', 'Apple', 'Google', 'IBM', 'twitter', 'Oracle', 'Amazon', 'Facebook'}\n",
      "{'Microsoft', 'cognizant', 'capgemini', 'twitter', 'Oracle', 'Amazon', 'accenture', 'Facebook', 'Apple', 'Google', 'IBM'}\n",
      "{'Microsoft', 'cognizant', 'capgemini', 'twitter', 'Amazon', 'accenture', 'Facebook', 'Apple', 'Google', 'IBM'}\n",
      "{19, 20, 22, 24, 25, 26, 27, 28}\n",
      "{19, 20, 22, 24, 25, 26}\n",
      "True\n",
      "False\n",
      "{19, 20, 22, 24, 25, 26, 27, 28}\n",
      "{27, 28}\n"
     ]
    },
    {
     "data": {
      "text/plain": [
       "8"
      ]
     },
     "execution_count": 5,
     "metadata": {},
     "output_type": "execute_result"
    }
   ],
   "source": [
    "it_companies = {'Facebook', 'Google', 'Microsoft', 'Apple', 'IBM', 'Oracle', 'Amazon'} \n",
    "A = {19, 22, 24, 20, 25, 26}\n",
    "B = {19, 22, 20, 25, 26, 24, 28, 27}\n",
    "age = [22, 19, 24, 25, 26, 24, 25, 24]\n",
    "print(len(it_companies))\n",
    "it_companies.add('twitter')\n",
    "print(it_companies)\n",
    "it_companies.update(['capgemini','accenture','cognizant'])\n",
    "print(it_companies)\n",
    "it_companies.remove('Oracle')\n",
    "print(it_companies)\n",
    "print(A|B)\n",
    "print(A&B)\n",
    "print(A.issubset(B))\n",
    "print(A.isdisjoint(B))\n",
    "C=A.union(B)\n",
    "print(C)\n",
    "print(A^B)\n",
    "len(age)"
   ]
  },
  {
   "cell_type": "markdown",
   "id": "d4e09e09",
   "metadata": {},
   "source": [
    "# Q5"
   ]
  },
  {
   "cell_type": "code",
   "execution_count": 6,
   "id": "c46592cd",
   "metadata": {},
   "outputs": [
    {
     "name": "stdout",
     "output_type": "stream",
     "text": [
      "enter radius:30\n",
      "area of circle = 2826.0\n",
      "circumfrence of circle = 188.4\n"
     ]
    }
   ],
   "source": [
    "r_circle = int(input('enter radius:'))\n",
    "_area_of_circle = 3.14*r_circle*r_circle\n",
    "_circumfrence_of_circle = 2*3.14*r_circle\n",
    "print('area of circle =',_area_of_circle)\n",
    "print('circumfrence of circle =',_circumfrence_of_circle)"
   ]
  },
  {
   "cell_type": "markdown",
   "id": "41645704",
   "metadata": {},
   "source": [
    "# Q6"
   ]
  },
  {
   "cell_type": "code",
   "execution_count": 8,
   "id": "5bb6b8dd",
   "metadata": {},
   "outputs": [
    {
     "name": "stdout",
     "output_type": "stream",
     "text": [
      "{'and', 'teach', 'people', 'teacher', 'love', 'to', 'a', 'inspire', 'I', 'am'}\n",
      "number_unq_words = 10\n"
     ]
    }
   ],
   "source": [
    "sen = \"I am a teacher and I love to inspire and teach people\"\n",
    "\n",
    "uni = set(sen.split(\" \"))\n",
    "print(uni)\n",
    "print('number_unq_words =',len(uni))"
   ]
  },
  {
   "cell_type": "markdown",
   "id": "4b7af388",
   "metadata": {},
   "source": [
    "# Q7"
   ]
  },
  {
   "cell_type": "code",
   "execution_count": 9,
   "id": "71105d77",
   "metadata": {},
   "outputs": [
    {
     "name": "stdout",
     "output_type": "stream",
     "text": [
      "Name\tAge\tCountrycity\n",
      "Asabeneh\t250\tFinland Helsinki\n"
     ]
    }
   ],
   "source": [
    "qn = \"Name\"\"\\tAge\" \"\\tCountrycity\"\"\\nAsabeneh\"\"\\t250\"\"\\tFinland Helsinki\"\n",
    "print(qn)"
   ]
  },
  {
   "cell_type": "markdown",
   "id": "d5e9b691",
   "metadata": {},
   "source": [
    "# Q8"
   ]
  },
  {
   "cell_type": "code",
   "execution_count": 10,
   "id": "b86dc9dc",
   "metadata": {},
   "outputs": [
    {
     "name": "stdout",
     "output_type": "stream",
     "text": [
      "radius = 10\n",
      "area = 3.14*radius**2\n",
      "The area of a cricle with radius 10 is 314.0 meters square\n"
     ]
    }
   ],
   "source": [
    "radius = 10\n",
    "area = 3.14*radius**2\n",
    "\n",
    "print(\"radius = {}\".format(radius))\n",
    "print(\"area = 3.14*radius**2\")\n",
    "print('The area of a cricle with radius {} is {} meters square'.format(radius,area))"
   ]
  },
  {
   "cell_type": "markdown",
   "id": "362eaabf",
   "metadata": {},
   "source": [
    "# Q9"
   ]
  },
  {
   "cell_type": "code",
   "execution_count": null,
   "id": "0badecb8",
   "metadata": {},
   "outputs": [],
   "source": [
    "weights=input()\n",
    "L1=weights.split()\n",
    "#print('weights=',L1)\n",
    "kgs=[]\n",
    "for i in L1:\n",
    "    kgs.append((int(i)*0.45));\n",
    "print('kgs=',kgs)"
   ]
  },
  {
   "cell_type": "code",
   "execution_count": null,
   "id": "1cf08389",
   "metadata": {},
   "outputs": [],
   "source": []
  }
 ],
 "metadata": {
  "kernelspec": {
   "display_name": "Python 3 (ipykernel)",
   "language": "python",
   "name": "python3"
  },
  "language_info": {
   "codemirror_mode": {
    "name": "ipython",
    "version": 3
   },
   "file_extension": ".py",
   "mimetype": "text/x-python",
   "name": "python",
   "nbconvert_exporter": "python",
   "pygments_lexer": "ipython3",
   "version": "3.9.13"
  }
 },
 "nbformat": 4,
 "nbformat_minor": 5
}
